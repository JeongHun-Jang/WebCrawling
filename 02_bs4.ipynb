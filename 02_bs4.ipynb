{
 "cells": [
  {
   "cell_type": "markdown",
   "metadata": {},
   "source": [
    "### BS4 (BeautifulSoup 4)\n",
    "\n",
    "#### https://www.crummy.com/software/BeautifulSoup/bs4/doc/"
   ]
  },
  {
   "cell_type": "code",
   "execution_count": 1,
   "metadata": {},
   "outputs": [],
   "source": [
    "import bs4 # HTML, XML parser library"
   ]
  },
  {
   "cell_type": "code",
   "execution_count": 2,
   "metadata": {
    "scrolled": true
   },
   "outputs": [],
   "source": [
    "html = \"\"\"<html><head></head><body><p>test</p></body></html>\"\"\"\n",
    "soup = bs4.BeautifulSoup(html, 'lxml') \n",
    "# BeautifulSoup(Target,Parser)"
   ]
  },
  {
   "cell_type": "code",
   "execution_count": 3,
   "metadata": {},
   "outputs": [
    {
     "name": "stdout",
     "output_type": "stream",
     "text": [
      "<html><head></head><body><p>test</p></body></html>\n"
     ]
    }
   ],
   "source": [
    "print(soup)"
   ]
  },
  {
   "cell_type": "code",
   "execution_count": 4,
   "metadata": {},
   "outputs": [
    {
     "name": "stdout",
     "output_type": "stream",
     "text": [
      "<html>\n",
      " <head>\n",
      " </head>\n",
      " <body>\n",
      "  <p>\n",
      "   test\n",
      "  </p>\n",
      " </body>\n",
      "</html>\n"
     ]
    }
   ],
   "source": [
    "print(soup.prettify())"
   ]
  },
  {
   "cell_type": "code",
   "execution_count": 5,
   "metadata": {},
   "outputs": [
    {
     "name": "stdout",
     "output_type": "stream",
     "text": [
      "p태그 내부 문자열\n",
      "p태그 내부 문자열\n",
      "<class 'str'>\n",
      "<class 'bs4.element.NavigableString'>\n"
     ]
    }
   ],
   "source": [
    "# 태그 내부 문자열 값 가져오기\n",
    "html = '''\n",
    "        <p>p태그 내부 문자열</p>\n",
    "       '''\n",
    "\n",
    "soup = bs4.BeautifulSoup(html, 'lxml')\n",
    "\n",
    "print(soup.p.text)\n",
    "print(soup.p.string)\n",
    "print(type(soup.p.text))\n",
    "print(type(soup.p.string))"
   ]
  },
  {
   "cell_type": "code",
   "execution_count": 6,
   "metadata": {},
   "outputs": [],
   "source": [
    "html = '''\n",
    "        <p>\n",
    "            test0\n",
    "            <span>t1</span>\n",
    "            <span>t2</span>\n",
    "            <span>t3</span>\n",
    "        </p>\n",
    "       '''\n",
    "soup = bs4.BeautifulSoup(html, 'lxml')"
   ]
  },
  {
   "cell_type": "code",
   "execution_count": 7,
   "metadata": {},
   "outputs": [
    {
     "name": "stdout",
     "output_type": "stream",
     "text": [
      "\n",
      "            test0\n",
      "            t1\n",
      "t2\n",
      "t3\n",
      "\n"
     ]
    }
   ],
   "source": [
    "print(soup.p.text)  # 태그 안의 모든 text를 가져옴"
   ]
  },
  {
   "cell_type": "code",
   "execution_count": 8,
   "metadata": {},
   "outputs": [
    {
     "name": "stdout",
     "output_type": "stream",
     "text": [
      "None\n"
     ]
    }
   ],
   "source": [
    "print(soup.p.string) # 태그 안에 태그가 있으면 None"
   ]
  },
  {
   "cell_type": "code",
   "execution_count": 9,
   "metadata": {},
   "outputs": [
    {
     "name": "stdout",
     "output_type": "stream",
     "text": [
      "t1\n",
      "t1\n"
     ]
    }
   ],
   "source": [
    "# 첫번째 span 태그의 문자열을 가져옴\n",
    "print(soup.span.text)\n",
    "print(soup.span.string)"
   ]
  }
 ],
 "metadata": {
  "kernelspec": {
   "display_name": "TF-GPU",
   "language": "python",
   "name": "tf-gpu"
  },
  "language_info": {
   "codemirror_mode": {
    "name": "ipython",
    "version": 3
   },
   "file_extension": ".py",
   "mimetype": "text/x-python",
   "name": "python",
   "nbconvert_exporter": "python",
   "pygments_lexer": "ipython3",
   "version": "3.6.8"
  }
 },
 "nbformat": 4,
 "nbformat_minor": 2
}
