{
 "cells": [
  {
   "cell_type": "markdown",
   "metadata": {},
   "source": [
    "# Naver 회원 가입 폼 자동 작성"
   ]
  },
  {
   "cell_type": "code",
   "execution_count": 1,
   "metadata": {},
   "outputs": [],
   "source": [
    "import bs4, requests\n",
    "from selenium import webdriver\n",
    "from selenium.webdriver.support.ui import Select # select 태그 입력 함수"
   ]
  },
  {
   "cell_type": "code",
   "execution_count": 2,
   "metadata": {},
   "outputs": [],
   "source": [
    "driver = webdriver.Chrome('chromedriver')\n",
    "driver.get('https://www.naver.com')"
   ]
  },
  {
   "cell_type": "code",
   "execution_count": 3,
   "metadata": {},
   "outputs": [
    {
     "name": "stdout",
     "output_type": "stream",
     "text": [
      "회원가입\n"
     ]
    }
   ],
   "source": [
    "# 개발자 도구에서 회원가입 버튼의 태그위치 파악하기\n",
    "\n",
    "# //*[@id=\"account\"]/div/div/a    # 회원가입 a 태그 copy - xpath\n",
    "#a_tag = driver.find_element_by_xpath('//*[@id=\"account\"]/div/div/a')\n",
    "\n",
    "# #account > div > div > a        # 회원가입 a 태그 copy - selector\n",
    "a_tag = driver.find_element_by_css_selector('#account > div > div > a')\n",
    "\n",
    "# find_element_xx  : 조건에 맞는 첫번째 태그\n",
    "# find_elements_xx : 모든 태그\n",
    "print(a_tag.text)"
   ]
  },
  {
   "cell_type": "code",
   "execution_count": 4,
   "metadata": {},
   "outputs": [],
   "source": [
    "a_tag.click()  # tag click"
   ]
  },
  {
   "cell_type": "code",
   "execution_count": 5,
   "metadata": {},
   "outputs": [],
   "source": [
    "# 약관 모두 동의 체크박스 label selector: #join_form > div.terms_p > p > span > label\n",
    "chk_box_tag = driver.find_element_by_css_selector('#join_form > div.terms_p > p > span > label')\n",
    "chk_box_tag.click()\n",
    "# 동의 버튼 a 태그 selector : #btnAgree\n",
    "agree_a_tag = driver.find_element_by_css_selector('#btnAgree')\n",
    "agree_a_tag.click()"
   ]
  },
  {
   "cell_type": "code",
   "execution_count": 6,
   "metadata": {},
   "outputs": [],
   "source": [
    "# 회원가입에 필요한 정보 # [#tag_id] [form_type]\n",
    "id_info = 'asdqwe12344'  # #id   input_tag\n",
    "pw_info = 'Asd123!@#'    # #pswd1 #pswd2\n",
    "name_info = 'James'      # #name\n",
    "birY_info = '1945'       # #yy\n",
    "birM_info = '01'         # #mm  select_tag\n",
    "dirD_info = '23'         # #dd\n",
    "gen_info = ''            # #gender  select_tag\n",
    "email_info = 'abcd1234@gmail.com' # #email\n",
    "phone_info = '01234567890' # #phoneNo\n",
    "key_info = '' # #authNo\n",
    "# 인증번호 받기 태그 : #btnSend\n",
    "# 가입하기 버튼 태그 : #btnJoin"
   ]
  },
  {
   "cell_type": "code",
   "execution_count": 7,
   "metadata": {},
   "outputs": [],
   "source": [
    "info1 = driver.find_element_by_css_selector('#id')\n",
    "info1.send_keys(id_info)  # keyboard 입력\n",
    "\n",
    "info2 = driver.find_element_by_css_selector('#pswd1')\n",
    "info2.send_keys(pw_info)\n",
    "\n",
    "info3 = driver.find_element_by_css_selector('#pswd2')\n",
    "info3.send_keys(pw_info)\n",
    "\n",
    "info4 = driver.find_element_by_css_selector('#name')\n",
    "info4.send_keys(name_info)\n",
    "\n",
    "info5 = driver.find_element_by_css_selector('#yy')\n",
    "info5.send_keys(birY_info)\n",
    "\n",
    "sele1 = driver.find_element_by_css_selector('#mm')\n",
    "select_tag1 = Select(sele1)\n",
    "select_tag1.select_by_value(birM_info) # select 입력\n",
    "\n",
    "info6 = driver.find_element_by_css_selector('#dd')\n",
    "info6.send_keys(dirD_info)\n",
    "\n",
    "sele2 = driver.find_element_by_css_selector('#gender')\n",
    "select_tag2 = Select(sele2)\n",
    "select_tag2.select_by_value('0')\n",
    "\n",
    "info7 = driver.find_element_by_css_selector('#email')\n",
    "info7.send_keys(email_info)\n",
    "\n",
    "info8 = driver.find_element_by_css_selector('#phoneNo')\n",
    "info8.send_keys(phone_info)\n",
    "\n",
    "info9 = driver.find_element_by_css_selector('#authNo')"
   ]
  },
  {
   "cell_type": "code",
   "execution_count": 8,
   "metadata": {},
   "outputs": [],
   "source": [
    "btn1 = driver.find_element_by_css_selector('#btnSend')\n",
    "btn1.click()"
   ]
  },
  {
   "cell_type": "code",
   "execution_count": null,
   "metadata": {},
   "outputs": [],
   "source": [
    "#driver.refresh()  # 페이지 새로고침\n",
    "#바로 가입하면 아이디 차단당합니다."
   ]
  }
 ],
 "metadata": {
  "kernelspec": {
   "display_name": "TF-GPU",
   "language": "python",
   "name": "tf-gpu"
  },
  "language_info": {
   "codemirror_mode": {
    "name": "ipython",
    "version": 3
   },
   "file_extension": ".py",
   "mimetype": "text/x-python",
   "name": "python",
   "nbconvert_exporter": "python",
   "pygments_lexer": "ipython3",
   "version": "3.6.8"
  }
 },
 "nbformat": 4,
 "nbformat_minor": 2
}
