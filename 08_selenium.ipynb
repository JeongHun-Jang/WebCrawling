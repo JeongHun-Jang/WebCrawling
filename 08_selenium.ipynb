{
 "cells": [
  {
   "cell_type": "markdown",
   "metadata": {},
   "source": [
    "# Selenium 기본"
   ]
  },
  {
   "cell_type": "code",
   "execution_count": null,
   "metadata": {},
   "outputs": [],
   "source": [
    "# 사전 준비\n",
    "# pip install selenium\n",
    "# https://www.seleniumhq.org/download/ \n",
    "# 브라우저 및 버전에 맞는 웹드라이버 다운로드"
   ]
  },
  {
   "cell_type": "code",
   "execution_count": 1,
   "metadata": {},
   "outputs": [],
   "source": [
    "from selenium import webdriver"
   ]
  },
  {
   "cell_type": "code",
   "execution_count": 2,
   "metadata": {},
   "outputs": [],
   "source": [
    "# 웹드라이버 가동  '다운로드 받은 파일 이름'\n",
    "driver = webdriver.Chrome('chromedriver')"
   ]
  },
  {
   "cell_type": "code",
   "execution_count": 3,
   "metadata": {},
   "outputs": [],
   "source": [
    "driver.get('https://naver.com') # url 로 페이지 이동"
   ]
  },
  {
   "cell_type": "markdown",
   "metadata": {},
   "source": [
    "## BS4 vs Selenium"
   ]
  },
  {
   "cell_type": "code",
   "execution_count": null,
   "metadata": {},
   "outputs": [],
   "source": [
    "#  bs4는 requests를 통해 서버로부터 받은 응답결과(문자열)로 구분\n",
    "#  selenium은 서버로부터 받은 응답을 브라우저가 코드까지 실행한\n",
    "# 결과(스크립트로 인해 내용이 추가될 수 있음)를 바탕으로 구분"
   ]
  },
  {
   "cell_type": "code",
   "execution_count": 4,
   "metadata": {},
   "outputs": [],
   "source": [
    "import requests\n",
    "import bs4"
   ]
  },
  {
   "cell_type": "code",
   "execution_count": 5,
   "metadata": {},
   "outputs": [],
   "source": [
    "url = 'http://www.softcampus.co.kr/test100.jsp'"
   ]
  },
  {
   "cell_type": "code",
   "execution_count": 17,
   "metadata": {},
   "outputs": [],
   "source": [
    "response = requests.get(url)\n",
    "soup = bs4.BeautifulSoup(response.text, 'lxml')\n",
    "\n",
    "tag_test = soup.select('#test')\n",
    "script_p_tag = soup.select('script>p')\n",
    "script_tag = soup.select('script')"
   ]
  },
  {
   "cell_type": "code",
   "execution_count": 18,
   "metadata": {},
   "outputs": [
    {
     "name": "stdout",
     "output_type": "stream",
     "text": [
      "[<script>\n",
      "\t\twindow.onload = function(){\n",
      "\t\t\tvar result = document.getElementById(\"result\");\n",
      "\n",
      "\t\t\tresult.innerHTML = \"<p id='test'>id test p 태그</p>\"\n",
      "\t\t}\n",
      "  </script>]\n",
      "[]\n",
      "[]\n",
      "\n",
      "<!doctype html>\n",
      "<html lang=\"en\">\n",
      " <head>\n",
      "  <title>Document</title>\n",
      "  <meta charset=\"utf-8\"/>\n",
      "  <script>\n",
      "\t\twindow.onload = function(){\n",
      "\t\t\tvar result = document.getElementById(\"result\");\n",
      "\n",
      "\t\t\tresult.innerHTML = \"<p id='test'>id test p 태그</p>\"\n",
      "\t\t}\n",
      "  </script>\n",
      " </head>\n",
      " <body>\n",
      "\t<div id=\"result\"></div>\n",
      " </body>\n",
      "</html>\n",
      "\n",
      "\n"
     ]
    }
   ],
   "source": [
    "# bs4 결과\n",
    "# script 태그는 읽을 수 있지만 코드로 동적으로 변하는 결과는 가져오지 못함\n",
    "print(script_tag)\n",
    "print(script_p_tag) # script 내부는 html 태그 파싱 대상이 아님\n",
    "print(tag_test)     # class 나 id로 접근 불가 \n",
    "print(response.text)"
   ]
  },
  {
   "cell_type": "code",
   "execution_count": 24,
   "metadata": {},
   "outputs": [],
   "source": [
    "# selenium 결과\n",
    "driver = webdriver.Chrome('chromedriver')\n",
    "driver.get(url)"
   ]
  },
  {
   "cell_type": "code",
   "execution_count": 25,
   "metadata": {},
   "outputs": [
    {
     "name": "stdout",
     "output_type": "stream",
     "text": [
      "Document\n"
     ]
    }
   ],
   "source": [
    "print(driver.title)"
   ]
  },
  {
   "cell_type": "code",
   "execution_count": 26,
   "metadata": {},
   "outputs": [
    {
     "name": "stdout",
     "output_type": "stream",
     "text": [
      "<!DOCTYPE html><html xmlns=\"http://www.w3.org/1999/xhtml\" lang=\"en\"><head>\n",
      "  <title>Document</title>\n",
      "  <meta charset=\"utf-8\" />\n",
      "  <script>\n",
      "\t\twindow.onload = function(){\n",
      "\t\t\tvar result = document.getElementById(\"result\");\n",
      "\n",
      "\t\t\tresult.innerHTML = \"&lt;p id='test'&gt;id test p 태그&lt;/p&gt;\"\n",
      "\t\t}\n",
      "  </script>\n",
      " </head>\n",
      " <body>\n",
      "\t<div id=\"result\"><p id=\"test\">id test p 태그</p></div>\n",
      " \n",
      "\n",
      "\n",
      "</body></html>\n"
     ]
    }
   ],
   "source": [
    "print(driver.page_source)"
   ]
  },
  {
   "cell_type": "code",
   "execution_count": 25,
   "metadata": {},
   "outputs": [
    {
     "name": "stdout",
     "output_type": "stream",
     "text": [
      "<selenium.webdriver.remote.webelement.WebElement (session=\"3e59432d7df1436baf6c5153e430d862\", element=\"0.882969150989654-1\")>\n",
      "id test p 태그\n"
     ]
    }
   ],
   "source": [
    "test_tag = driver.find_element_by_id('test')\n",
    "print(test_tag)\n",
    "print(test_tag.text)"
   ]
  },
  {
   "cell_type": "code",
   "execution_count": 20,
   "metadata": {},
   "outputs": [
    {
     "name": "stdout",
     "output_type": "stream",
     "text": [
      "<selenium.webdriver.remote.webelement.WebElement (session=\"3e59432d7df1436baf6c5153e430d862\", element=\"0.882969150989654-2\")>\n"
     ]
    }
   ],
   "source": [
    "body = driver.find_element_by_tag_name('body')\n",
    "print(body)"
   ]
  },
  {
   "cell_type": "code",
   "execution_count": 31,
   "metadata": {},
   "outputs": [
    {
     "name": "stdout",
     "output_type": "stream",
     "text": [
      "<!DOCTYPE html>\n",
      "<html lang=\"en\" xmlns=\"http://www.w3.org/1999/xhtml\"><head>\n",
      "<title>Document</title>\n",
      "<meta charset=\"utf-8\"/>\n",
      "<script>\n",
      "\t\twindow.onload = function(){\n",
      "\t\t\tvar result = document.getElementById(\"result\");\n",
      "\n",
      "\t\t\tresult.innerHTML = \"&lt;p id='test'&gt;id test p 태그&lt;/p&gt;\"\n",
      "\t\t}\n",
      "  </script>\n",
      "</head>\n",
      "<body>\n",
      "<div id=\"result\"><p id=\"test\">id test p 태그</p></div>\n",
      "</body></html>\n"
     ]
    }
   ],
   "source": [
    "# selenium으로 브라우저를 통해 소스를 받아와서 bs4 적용 가능\n",
    "soup = bs4.BeautifulSoup(driver.page_source, 'lxml')\n",
    "print(soup)"
   ]
  }
 ],
 "metadata": {
  "kernelspec": {
   "display_name": "TF-GPU",
   "language": "python",
   "name": "tf-gpu"
  },
  "language_info": {
   "codemirror_mode": {
    "name": "ipython",
    "version": 3
   },
   "file_extension": ".py",
   "mimetype": "text/x-python",
   "name": "python",
   "nbconvert_exporter": "python",
   "pygments_lexer": "ipython3",
   "version": "3.6.8"
  }
 },
 "nbformat": 4,
 "nbformat_minor": 2
}
