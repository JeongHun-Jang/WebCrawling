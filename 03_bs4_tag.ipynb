{
 "cells": [
  {
   "cell_type": "markdown",
   "metadata": {},
   "source": [
    "# HTML Tag Selection\n",
    "\n",
    "### find_all , find , select"
   ]
  },
  {
   "cell_type": "code",
   "execution_count": 1,
   "metadata": {},
   "outputs": [],
   "source": [
    "import bs4"
   ]
  },
  {
   "cell_type": "code",
   "execution_count": 2,
   "metadata": {},
   "outputs": [],
   "source": [
    "html = '''\n",
    "        <html>\n",
    "            <body>\n",
    "                <p class=\"a1\">p 태그1</p>\n",
    "                <p class='a2'>p 태그2</p>\n",
    "                <p class='a1 a2'>p 태그3</p>\n",
    "                <ul class='a1'>\n",
    "                    <li>항목1</li>\n",
    "                    <li>항목2</li>\n",
    "                    <li>항목3</li>\n",
    "                </ul>\n",
    "            </body>\n",
    "        </html>\n",
    "       '''\n",
    "soup = bs4.BeautifulSoup(html, 'lxml')"
   ]
  },
  {
   "cell_type": "markdown",
   "metadata": {},
   "source": [
    "## find_all\n",
    "\n",
    "조건에 맞는 태그를 모두 선택"
   ]
  },
  {
   "cell_type": "code",
   "execution_count": 3,
   "metadata": {},
   "outputs": [
    {
     "name": "stdout",
     "output_type": "stream",
     "text": [
      "[<p class=\"a1\">p 태그1</p>, <p class=\"a2\">p 태그2</p>, <p class=\"a1 a2\">p 태그3</p>]\n",
      "[<li>항목1</li>, <li>항목2</li>, <li>항목3</li>]\n",
      "p 태그1\n",
      "p 태그2\n",
      "p 태그3\n"
     ]
    }
   ],
   "source": [
    "p_list = soup.find_all('p')   # find all p tags in html\n",
    "li_list = soup.find_all('li') # return type : list\n",
    "\n",
    "print(p_list)\n",
    "print(li_list)\n",
    "\n",
    "for p_tag in p_list:\n",
    "    print(p_tag.text)"
   ]
  },
  {
   "cell_type": "code",
   "execution_count": 4,
   "metadata": {},
   "outputs": [
    {
     "name": "stdout",
     "output_type": "stream",
     "text": [
      "[<p class=\"a1\">p 태그1</p>, <p class=\"a1 a2\">p 태그3</p>, <ul class=\"a1\">\n",
      "<li>항목1</li>\n",
      "<li>항목2</li>\n",
      "<li>항목3</li>\n",
      "</ul>] \n",
      "\n",
      "[<p class=\"a1\">p 태그1</p>, <p class=\"a1 a2\">p 태그3</p>]\n"
     ]
    }
   ],
   "source": [
    "# css class 이름을 사용하여 태그 선택\n",
    "# 소스보기에서 추출할 태그 클래스와 동일한 클래스가 더 있는지 Ctrl+f 로 찾아보기\n",
    "# 조건에 맞는 태그가 없으면 빈 리스트 반환\n",
    "c_list = soup.find_all(class_='a1')\n",
    "p_list = soup.find_all('p', class_='a1')\n",
    "\n",
    "print(c_list,'\\n')\n",
    "print(p_list)"
   ]
  },
  {
   "cell_type": "markdown",
   "metadata": {},
   "source": [
    "## find\n",
    "\n",
    "조건에 맞는 태그 중 첫번째 객체를 가져온다."
   ]
  },
  {
   "cell_type": "code",
   "execution_count": 5,
   "metadata": {},
   "outputs": [],
   "source": [
    "html = '''\n",
    "        <html>\n",
    "            <body>\n",
    "                <p class='a1' id='i1'>p 태그1</p>\n",
    "                <p class='a2'>p 태그2</p>\n",
    "                <p class='a1 a2' id='i3'>p 태그3</p>\n",
    "            </body>\n",
    "        </html>\n",
    "       '''\n",
    "soup = bs4.BeautifulSoup(html, 'lxml')"
   ]
  },
  {
   "cell_type": "code",
   "execution_count": 6,
   "metadata": {},
   "outputs": [
    {
     "name": "stdout",
     "output_type": "stream",
     "text": [
      "<p class=\"a1 a2\" id=\"i3\">p 태그3</p>\n",
      "<p class=\"a1 a2\" id=\"i3\">p 태그3</p>\n"
     ]
    }
   ],
   "source": [
    "c = soup.find(class_='a1 a2')\n",
    "print(c)\n",
    "\n",
    "# id 속성은 대개 하나만 있어서 find가 적합하다. (JavaScript)\n",
    "i = soup.find(id='i3')\n",
    "print(i)"
   ]
  },
  {
   "cell_type": "markdown",
   "metadata": {},
   "source": [
    "## Select\n",
    "\n",
    "문법을 이용하여 태그 선택"
   ]
  },
  {
   "cell_type": "code",
   "execution_count": 7,
   "metadata": {},
   "outputs": [],
   "source": [
    "html = '''\n",
    "        <html>\n",
    "            <body>\n",
    "                <p class='a1' id='i1'>p 태그1</p>\n",
    "                <p class='a2'>p 태그2</p>\n",
    "                <p class='a1 a2' id='i3'>p 태그3</p>\n",
    "            </body>\n",
    "        </html>\n",
    "       '''\n",
    "soup = bs4.BeautifulSoup(html, 'lxml')"
   ]
  },
  {
   "cell_type": "code",
   "execution_count": 8,
   "metadata": {},
   "outputs": [
    {
     "name": "stdout",
     "output_type": "stream",
     "text": [
      "[<p class=\"a1\" id=\"i1\">p 태그1</p>, <p class=\"a2\">p 태그2</p>, <p class=\"a1 a2\" id=\"i3\">p 태그3</p>]\n",
      "[<p class=\"a1\" id=\"i1\">p 태그1</p>, <p class=\"a1 a2\" id=\"i3\">p 태그3</p>]\n",
      "[<p class=\"a1\" id=\"i1\">p 태그1</p>]\n",
      "[<p class=\"a1 a2\" id=\"i3\">p 태그3</p>]\n"
     ]
    }
   ],
   "source": [
    "# 리스트로 반환\n",
    "# class : .name\n",
    "# id    : #name\n",
    "t1 = soup.select('p')  # p태그\n",
    "t2 = soup.select('p.a1') # p태그와 클래스\n",
    "t3 = soup.select('p#i1') # p태그와 id\n",
    "t4 = soup.select('#i3.a1') # 클래스와 id 순서무관 \n",
    "\n",
    "print(t1)\n",
    "print(t2)\n",
    "print(t3)\n",
    "print(t4)"
   ]
  },
  {
   "cell_type": "markdown",
   "metadata": {},
   "source": [
    "## 비교"
   ]
  },
  {
   "cell_type": "code",
   "execution_count": 9,
   "metadata": {},
   "outputs": [],
   "source": [
    "html = '''\n",
    "        <html>\n",
    "            <body>\n",
    "                <p class='a1' id='i1'>p 태그1</p>\n",
    "                <p class='a2'>p 태그2</p>\n",
    "                <p class='a1 a2' id='i3'>p 태그3</p>\n",
    "            </body>\n",
    "        </html>\n",
    "       '''\n",
    "soup = bs4.BeautifulSoup(html, 'lxml')"
   ]
  },
  {
   "cell_type": "code",
   "execution_count": 10,
   "metadata": {},
   "outputs": [
    {
     "name": "stdout",
     "output_type": "stream",
     "text": [
      "[<p class=\"a1 a2\" id=\"i3\">p 태그3</p>]\n",
      "[<p class=\"a1 a2\" id=\"i3\">p 태그3</p>]\n"
     ]
    }
   ],
   "source": [
    "findall = soup.find_all('p', class_='a1 a2') \n",
    "select = soup.select('p.a1.a2')\n",
    "\n",
    "print(findall)\n",
    "print(select)"
   ]
  },
  {
   "cell_type": "code",
   "execution_count": 11,
   "metadata": {},
   "outputs": [
    {
     "name": "stdout",
     "output_type": "stream",
     "text": [
      "[<p class=\"a1\" id=\"i1\">p 태그1</p>]\n",
      "[<p class=\"a1\" id=\"i1\">p 태그1</p>]\n"
     ]
    }
   ],
   "source": [
    "findall = soup.find_all(id='i1') \n",
    "select = soup.select('#i1')\n",
    "\n",
    "print(findall)\n",
    "print(select)"
   ]
  },
  {
   "cell_type": "markdown",
   "metadata": {},
   "source": [
    "## 하위 태그"
   ]
  },
  {
   "cell_type": "code",
   "execution_count": 12,
   "metadata": {},
   "outputs": [],
   "source": [
    "html = '''\n",
    "        <html>\n",
    "            <body>\n",
    "                <div>\n",
    "                    <p class='a1' id='i1'>p 태그1</p>\n",
    "                </div>\n",
    "                <div id='div2'>\n",
    "                    <p class='a2' id='i2'>p 태그2</p>\n",
    "                </div>\n",
    "                <div>\n",
    "                    <p class='a1 a2' id='i3'>p 태그3</p>\n",
    "                </div>\n",
    "            </body>\n",
    "        </html>\n",
    "       '''\n",
    "soup = bs4.BeautifulSoup(html, 'lxml')"
   ]
  },
  {
   "cell_type": "code",
   "execution_count": 13,
   "metadata": {},
   "outputs": [
    {
     "name": "stdout",
     "output_type": "stream",
     "text": [
      "<div id=\"div2\">\n",
      "<p class=\"a2\" id=\"i2\">p 태그2</p>\n",
      "</div>\n"
     ]
    }
   ],
   "source": [
    "div_tag = soup.find('div', id='div2')\n",
    "print(div_tag)"
   ]
  },
  {
   "cell_type": "code",
   "execution_count": 14,
   "metadata": {
    "scrolled": false
   },
   "outputs": [
    {
     "name": "stdout",
     "output_type": "stream",
     "text": [
      "<p class=\"a2\" id=\"i2\">p 태그2</p>\n"
     ]
    }
   ],
   "source": [
    "p_tag = div_tag.find('p')\n",
    "print(p_tag)"
   ]
  },
  {
   "cell_type": "code",
   "execution_count": 15,
   "metadata": {
    "scrolled": true
   },
   "outputs": [
    {
     "name": "stdout",
     "output_type": "stream",
     "text": [
      "[<p class=\"a2\" id=\"i2\">p 태그2</p>]\n"
     ]
    }
   ],
   "source": [
    "# id가 div2 인 태그의 바로 하위 p태그 : >\n",
    "tag1 = soup.select('#div2 > p')\n",
    "print(tag1)"
   ]
  },
  {
   "cell_type": "code",
   "execution_count": 16,
   "metadata": {},
   "outputs": [
    {
     "name": "stdout",
     "output_type": "stream",
     "text": [
      "[<p class=\"a2\" id=\"i2\">p 태그2</p>]\n"
     ]
    }
   ],
   "source": [
    "# id가 div2 인 태그의 하위 p태그 : 띄어쓰기\n",
    "tag2 = soup.select('#div2 p')\n",
    "print(tag2)"
   ]
  }
 ],
 "metadata": {
  "kernelspec": {
   "display_name": "TF-GPU",
   "language": "python",
   "name": "tf-gpu"
  },
  "language_info": {
   "codemirror_mode": {
    "name": "ipython",
    "version": 3
   },
   "file_extension": ".py",
   "mimetype": "text/x-python",
   "name": "python",
   "nbconvert_exporter": "python",
   "pygments_lexer": "ipython3",
   "version": "3.6.8"
  }
 },
 "nbformat": 4,
 "nbformat_minor": 2
}
