{
 "cells": [
  {
   "cell_type": "code",
   "execution_count": 1,
   "metadata": {},
   "outputs": [],
   "source": [
    "# Selenium 다음 영화 목록 가져오기"
   ]
  },
  {
   "cell_type": "code",
   "execution_count": 2,
   "metadata": {},
   "outputs": [],
   "source": [
    "from selenium import webdriver\n",
    "from time import sleep\n",
    "import pandas as pd"
   ]
  },
  {
   "cell_type": "code",
   "execution_count": 3,
   "metadata": {},
   "outputs": [],
   "source": [
    "driver = webdriver.Chrome('chromedriver')"
   ]
  },
  {
   "cell_type": "code",
   "execution_count": 4,
   "metadata": {},
   "outputs": [],
   "source": [
    "url = 'https://movie.daum.net/main/new#slide-1-0'\n",
    "driver.get(url)"
   ]
  },
  {
   "cell_type": "code",
   "execution_count": 5,
   "metadata": {},
   "outputs": [],
   "source": [
    "# 현재상영/개봉예정 selector : #dkGnb > div > ul > li:nth-child(2) > a\n",
    "a_tag = driver.find_element_by_css_selector('#dkGnb > div > ul > li:nth-child(2) > a')\n",
    "a_tag.click()"
   ]
  },
  {
   "cell_type": "code",
   "execution_count": 6,
   "metadata": {
    "scrolled": true
   },
   "outputs": [
    {
     "name": "stdout",
     "output_type": "stream",
     "text": [
      "돈\n",
      "7.1\n",
      "54.96%\n",
      "캡틴 마블\n",
      "6.3\n",
      "25.15%\n",
      "악질경찰\n",
      "7.4\n",
      "5.49%\n",
      "우상\n",
      "6.1\n",
      "3.91%\n",
      "이스케이프 룸\n",
      "6.9\n",
      "2.53%\n",
      "페이트 스테이 나이트 헤븐즈필 제2장 로스트 버터플라이\n",
      "7.1\n",
      "1.79%\n",
      "정글북: 마법 원정대\n",
      "7.0\n",
      "1%\n",
      "양지의 그녀\n",
      "8.2\n",
      "0.92%\n",
      "그린 북\n",
      "9.2\n",
      "0.59%\n",
      "라스트 미션\n",
      "8.5\n",
      "0.51%\n",
      "더 페이버릿: 여왕의 여자\n",
      "8.4\n",
      "0.48%\n",
      "극한직업\n",
      "7.4\n",
      "0.31%\n",
      "아사코\n",
      "6.4\n",
      "0.26%\n",
      "더 와이프\n",
      "8.3\n",
      "0.17%\n",
      "가버나움\n",
      "9.4\n",
      "0.15%\n",
      "항거:유관순 이야기\n",
      "9.0\n",
      "0.14%\n",
      "숲속왕국의 꿀벌 여왕\n",
      "6.4\n",
      "0.14%\n",
      "증인\n",
      "9.3\n",
      "0.12%\n",
      "원 네이션\n",
      "8.6\n",
      "0.08%\n",
      "살인마 잭의 집\n",
      "6.0\n",
      "0.06%\n",
      "저장완료\n"
     ]
    }
   ],
   "source": [
    "# 영화의 타이틀 정보를 모두 가져옴\n",
    "# #mArticle > ul.list_movie.\\23 movie > li:nth-child(1) > div.wrap_movie > div > a\n",
    "# #mArticle > ul.list_movie.\\23 movie > li:nth-child(2) > div.wrap_movie > div > a\n",
    "data_dic = {\n",
    "    'title' : [],\n",
    "    'score' : [],\n",
    "    'book_ratio' : []\n",
    "}\n",
    "\n",
    "title_li_tag = driver.find_elements_by_css_selector('#mArticle > ul.list_movie.\\#movie > li')\n",
    "\n",
    "for li_tag in title_li_tag:\n",
    "    title_tag = li_tag.find_element_by_css_selector('div.wrap_movie > div > a')\n",
    "    print(title_tag.text.strip())\n",
    "    \n",
    "    score_tag = li_tag.find_element_by_css_selector('div.wrap_movie > span.info_grade > a > span.wrap_grade.grade_netizen')\n",
    "    str1 = score_tag.text[3:5]+ '.' + score_tag.text[9]\n",
    "    if(str1[0] == '0'): str1 = str1[1:]\n",
    "    print(str1)\n",
    "    \n",
    "    ratio_tag = li_tag.find_element_by_css_selector('div.wrap_movie > span.info_state')\n",
    "    str2 = ratio_tag.text.split(' ')[4]\n",
    "    print(str2)\n",
    "    \n",
    "    data_dic['title'].append(title_tag.text.strip())\n",
    "    data_dic['score'].append(str1)\n",
    "    data_dic['book_ratio'].append(str2)\n",
    "# for end\n",
    "\n",
    "df = pd.DataFrame.from_dict(data_dic)\n",
    "df.to_csv('daum_movie.csv', encoding='utf-8-sig', index=False)\n",
    "print('저장완료')"
   ]
  }
 ],
 "metadata": {
  "kernelspec": {
   "display_name": "TF-GPU",
   "language": "python",
   "name": "tf-gpu"
  },
  "language_info": {
   "codemirror_mode": {
    "name": "ipython",
    "version": 3
   },
   "file_extension": ".py",
   "mimetype": "text/x-python",
   "name": "python",
   "nbconvert_exporter": "python",
   "pygments_lexer": "ipython3",
   "version": "3.6.8"
  }
 },
 "nbformat": 4,
 "nbformat_minor": 2
}
